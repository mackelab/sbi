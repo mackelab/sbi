{
 "cells": [
  {
   "cell_type": "markdown",
   "metadata": {},
   "source": [
    "# Dealing efficiently with invalid simulation outputs\n",
    "\n",
    "For many simulators, the output of the simulator can be ill-defined or it can have non-sensical values. For example, in neuroscience models, if a specific parameter set does not produce a spike, features such as the spike shape can not be computed. When using `sbi`, such simulations that have `NaN` or `inf` in their output are discarded during neural network training. This can lead to inefficetive use of simulation budget: we carry out many simulations, but a potentially large fraction of them is discarded. In this tutorial, we show how we can use `sbi` to learn regions in parameter space that produce `valid` simulation outputs, and thereby improve the sampling efficiency. The key idea of the method is to use a classifier to distinguish parameters that lead to `valid` simulations from regions that lead to `invalid` simulations. The method was originally proposed in Lueckmann, Goncalves et al. 2017 and later used in Deistler et al. 2021 (in preparation)."
   ]
  },
  {
   "cell_type": "markdown",
   "metadata": {},
   "source": [
    "## Main syntax"
   ]
  },
  {
   "cell_type": "code",
   "execution_count": null,
   "metadata": {},
   "outputs": [],
   "source": [
    "from sbi.inference import SNPE\n",
    "from sbi.utils import RestrictionEstimator\n",
    "\n",
    "restriction_estimator = RestrictionEstimator(prior=prior)\n",
    "proposals = [prior]\n",
    "\n",
    "for r in range(num_rounds):\n",
    "    theta, x = simulate_for_sbi(simulator, proposals[-1], 1000)\n",
    "    restriction_estimator.append_simulations(theta, x)\n",
    "    if r < num_rounds - 1: # training not needed in last round because classifier will not be used anymore.\n",
    "        classifier = restriction_estimator.train()\n",
    "    proposals.append(restriction_estimator.restrict_prior())\n",
    "\n",
    "all_theta, all_x, _ = restriction_estimator.get_simulations()\n",
    "\n",
    "inference = SNPE(prior=prior)\n",
    "density_estimator = inference.append_simulations(all_theta, all_x).train()\n",
    "posterior = inference.build_posterior()"
   ]
  },
  {
   "cell_type": "markdown",
   "metadata": {},
   "source": [
    "## Further explanation in a toy example"
   ]
  },
  {
   "cell_type": "code",
   "execution_count": 47,
   "metadata": {},
   "outputs": [],
   "source": [
    "from sbi.inference import SNPE, simulate_for_sbi\n",
    "from sbi.utils import RestrictionEstimator, BoxUniform, pairplot\n",
    "import torch"
   ]
  },
  {
   "cell_type": "markdown",
   "metadata": {},
   "source": [
    "We will define a simulator with two parameters and two simulation outputs. The simulator produces `NaN` whenever the first parameter is below `0.0`. If it is above `0.0` the simulator simply perturbs the parameter set with Gaussian noise:"
   ]
  },
  {
   "cell_type": "code",
   "execution_count": 67,
   "metadata": {},
   "outputs": [],
   "source": [
    "def simulator(theta):\n",
    "    perturbed_theta = theta + 0.5 * torch.randn(2)\n",
    "    perturbed_theta[theta[:, 0] < 0.0] = torch.as_tensor([float(\"nan\"), float(\"nan\")])\n",
    "    return perturbed_theta"
   ]
  },
  {
   "cell_type": "markdown",
   "metadata": {},
   "source": [
    "The prior is a uniform distribution in [-2, 2]:"
   ]
  },
  {
   "cell_type": "code",
   "execution_count": 68,
   "metadata": {},
   "outputs": [],
   "source": [
    "prior = BoxUniform(-2*torch.ones(2), 2*torch.ones(2))"
   ]
  },
  {
   "cell_type": "markdown",
   "metadata": {},
   "source": [
    "We then begin by drawing samples from the prior and simulating them. Looking at the simulation outputs, half of them contain `NaN`:"
   ]
  },
  {
   "cell_type": "code",
   "execution_count": 69,
   "metadata": {},
   "outputs": [
    {
     "data": {
      "application/vnd.jupyter.widget-view+json": {
       "model_id": "3ef12a591df544c2bae31e8698f5e743",
       "version_major": 2,
       "version_minor": 0
      },
      "text/plain": [
       "HBox(children=(FloatProgress(value=0.0, description='Running 1000 simulations.', max=1000.0, style=ProgressSty…"
      ]
     },
     "metadata": {},
     "output_type": "display_data"
    },
    {
     "name": "stdout",
     "output_type": "stream",
     "text": [
      "\n",
      "Simulation outputs:  tensor([[    nan,     nan],\n",
      "        [ 1.5952, -1.5995],\n",
      "        [ 1.2247, -0.3149],\n",
      "        ...,\n",
      "        [    nan,     nan],\n",
      "        [ 1.4907, -0.0516],\n",
      "        [-0.9750, -0.0020]])\n"
     ]
    }
   ],
   "source": [
    "theta, x = simulate_for_sbi(simulator, prior, 1000)\n",
    "print(\"Simulation outputs: \", x)"
   ]
  },
  {
   "cell_type": "markdown",
   "metadata": {},
   "source": [
    "The simulations that contain `NaN` are wasted, and we want to learn to \"restrict\" the prior such that it produces only `valid` simulation outputs. To do so, we set up the `RestrictionEstimator`:"
   ]
  },
  {
   "cell_type": "code",
   "execution_count": 70,
   "metadata": {},
   "outputs": [],
   "source": [
    "restriction_estimator = RestrictionEstimator(prior=prior)"
   ]
  },
  {
   "cell_type": "markdown",
   "metadata": {},
   "source": [
    "The `RestrictionEstimator` trains a classifier to distinguish parameters that lead to `valid` simulation outputs from parameters that lead to `invalid` simulation outputs "
   ]
  },
  {
   "cell_type": "code",
   "execution_count": 71,
   "metadata": {},
   "outputs": [
    {
     "name": "stdout",
     "output_type": "stream",
     "text": [
      "Training neural network. Epochs trained:  27\r"
     ]
    }
   ],
   "source": [
    "restriction_estimator.append_simulations(theta, x)\n",
    "classifier = restriction_estimator.train()"
   ]
  },
  {
   "cell_type": "markdown",
   "metadata": {},
   "source": [
    "We can inspect the `restricted_prior`, i.e. the parameters that the classifier believes will lead to `valid` simulation outputs, with:"
   ]
  },
  {
   "cell_type": "code",
   "execution_count": 72,
   "metadata": {},
   "outputs": [
    {
     "name": "stdout",
     "output_type": "stream",
     "text": [
      "The classifier rejected 51.1% of all samples. You will get a speed-up of 104.6%.\n"
     ]
    },
    {
     "data": {
      "image/png": "[encoded data removed]",
      "text/plain": [
       "<Figure size 216x216 with 4 Axes>"
      ]
     },
     "metadata": {
      "needs_background": "light"
     },
     "output_type": "display_data"
    }
   ],
   "source": [
    "restricted_prior = restriction_estimator.restrict_prior()\n",
    "samples = restricted_prior.sample((10_000,))\n",
    "_ = pairplot(samples, limits=[[-2, 2], [-2, 2]], fig_size=(3, 3))"
   ]
  },
  {
   "cell_type": "markdown",
   "metadata": {},
   "source": [
    "Indeed, parameter sets sampled from the `restricted_prior` always have a first parameter larger than `0.0`. These are the ones that produce `valid` simulation outputs (see our definition of the simulator above). We can then use the `restricted_prior` to generate more simulations. Almost all of them will have `valid` simulation outputs:"
   ]
  },
  {
   "cell_type": "code",
   "execution_count": 73,
   "metadata": {},
   "outputs": [
    {
     "name": "stdout",
     "output_type": "stream",
     "text": [
      "The classifier rejected 51.8% of all samples. You will get a speed-up of 107.3%.\n"
     ]
    },
    {
     "data": {
      "application/vnd.jupyter.widget-view+json": {
       "model_id": "c71c3b4d3ca2492c9ca1ad9383a3817f",
       "version_major": 2,
       "version_minor": 0
      },
      "text/plain": [
       "HBox(children=(FloatProgress(value=0.0, description='Running 1000 simulations.', max=1000.0, style=ProgressSty…"
      ]
     },
     "metadata": {},
     "output_type": "display_data"
    },
    {
     "name": "stdout",
     "output_type": "stream",
     "text": [
      "\n",
      "Simulation outputs:  tensor([[-0.5220, -0.4093],\n",
      "        [    nan,     nan],\n",
      "        [ 0.6612,  0.6308],\n",
      "        ...,\n",
      "        [ 0.6459,  2.0956],\n",
      "        [ 0.2576,  1.7537],\n",
      "        [ 1.9237, -1.7617]])\n"
     ]
    }
   ],
   "source": [
    "new_theta, new_x = simulate_for_sbi(simulator, restricted_prior, 1000)\n",
    "print(\"Simulation outputs: \", new_x)"
   ]
  },
  {
   "cell_type": "markdown",
   "metadata": {},
   "source": [
    "We can now use **all** simulations and run `SNPE` as always:"
   ]
  },
  {
   "cell_type": "code",
   "execution_count": 74,
   "metadata": {},
   "outputs": [
    {
     "name": "stderr",
     "output_type": "stream",
     "text": [
      "WARNING:root:Found 521 NaN simulations and 0 Inf simulations. They will be excluded from training.\n"
     ]
    },
    {
     "name": "stdout",
     "output_type": "stream",
     "text": [
      "Neural network successfully converged after 60 epochs.\n"
     ]
    },
    {
     "data": {
      "application/vnd.jupyter.widget-view+json": {
       "model_id": "f578ea455a68401fa3e7c3fd20c7961f",
       "version_major": 2,
       "version_minor": 0
      },
      "text/plain": [
       "HBox(children=(FloatProgress(value=0.0, description='Drawing 10000 posterior samples', max=10000.0, style=Prog…"
      ]
     },
     "metadata": {},
     "output_type": "display_data"
    },
    {
     "name": "stdout",
     "output_type": "stream",
     "text": [
      "\n"
     ]
    },
    {
     "data": {
      "image/png": "[encoded data removed]",
      "text/plain": [
       "<Figure size 216x216 with 4 Axes>"
      ]
     },
     "metadata": {
      "needs_background": "light"
     },
     "output_type": "display_data"
    }
   ],
   "source": [
    "restriction_estimator.append_simulations(new_theta, new_x)  # Gather the new simulations in the `restriction_estimator`.\n",
    "all_theta, all_x, _ = restriction_estimator.get_simulations()  # Get all simulations run so far.\n",
    "\n",
    "inference = SNPE(prior=prior)\n",
    "density_estimator = inference.append_simulations(all_theta, all_x).train()\n",
    "posterior = inference.build_posterior()\n",
    "\n",
    "posterior_samples = posterior.sample((10_000,), x=torch.ones(2))\n",
    "_ = pairplot(posterior_samples, limits=[[-2, 2], [-2, 2]], fig_size=(3, 3))"
   ]
  },
  {
   "cell_type": "markdown",
   "metadata": {},
   "source": [
    "## Further options for tuning the algorithm\n",
    "\n",
    "- the whole procedure can be repeated many times (see the loop shown in \"Main syntax\" in this tutorial)  \n",
    "- the classifier is trained to be relatively conservative, i.e. it will try to be very sure that a specific parameter set can indeed not produce `valid` simulation outputs. If you are ok with the restricted prior potentially ignoring a small fraction of parameter sets that might have produced `valid` data, you can use `restriction_estimator.restrict_prior(allowed_false_negatives=...)`. The argument `allowed_false_negatives` sets the fraction of potentially ignored parameter sets. A higher value will lead to more `valid` simulations.  \n",
    "- By default, the algorithm considers simulations that have at least one `NaN` of `inf` as `invalid`. You can specify custom criterions with `RestrictionEstimator(decision_criterion=...)`\n",
    "- For differencese between the `RestrictionEstimator` and [multi-round inference](https://www.mackelab.org/sbi/tutorial/03_multiround_inference/), please see Deistler et al. 2021 (in preparation)."
   ]
  }
 ],
 "metadata": {
  "kernelspec": {
   "display_name": "sbi",
   "language": "python",
   "name": "sbi"
  },
  "language_info": {
   "codemirror_mode": {
    "name": "ipython",
    "version": 3
   },
   "file_extension": ".py",
   "mimetype": "text/x-python",
   "name": "python",
   "nbconvert_exporter": "python",
   "pygments_lexer": "ipython3",
   "version": "3.8.1"
  }
 },
 "nbformat": 4,
 "nbformat_minor": 4
}
